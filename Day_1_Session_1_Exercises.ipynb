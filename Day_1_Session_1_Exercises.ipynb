{
  "nbformat": 4,
  "nbformat_minor": 0,
  "metadata": {
    "colab": {
      "name": "Day 1 Session 1  Exercises",
      "provenance": [],
      "collapsed_sections": [],
      "authorship_tag": "ABX9TyNAvPTLrLmuFUmIQ0xI6YyE",
      "include_colab_link": true
    },
    "kernelspec": {
      "name": "python3",
      "display_name": "Python 3"
    }
  },
  "cells": [
    {
      "cell_type": "markdown",
      "metadata": {
        "id": "view-in-github",
        "colab_type": "text"
      },
      "source": [
        "<a href=\"https://colab.research.google.com/github/BhuvanST/Python-Workshop/blob/master/Day_1_Session_1_Exercises.ipynb\" target=\"_parent\"><img src=\"https://colab.research.google.com/assets/colab-badge.svg\" alt=\"Open In Colab\"/></a>"
      ]
    },
    {
      "cell_type": "code",
      "metadata": {
        "id": "cTXCtXanwUsL",
        "colab_type": "code",
        "colab": {
          "base_uri": "https://localhost:8080/",
          "height": 136
        },
        "outputId": "6b2ab62c-3e31-4a5f-e727-763c025d6f2f"
      },
      "source": [
        "# Python program to find compound interest \n",
        "\n",
        "p = float(input(\"Enter the principle amount : \"))\n",
        "r = float(input(\"Enter the rate of interest : \"))\n",
        "t = float(input(\"Enter the time in the years: \"))\n",
        "\n",
        "# calculating compound interest\n",
        "ci =  p * (pow((1 + r / 100), t)) \n",
        "\n",
        "# printing the values\n",
        "print(\"Principle amount  : \", p)\n",
        "print(\"Interest rate     : \", r)\n",
        "print(\"Time in years     : \", t)\n",
        "print(\"compound Interest : \", ci)"
      ],
      "execution_count": 1,
      "outputs": [
        {
          "output_type": "stream",
          "text": [
            "Enter the principle amount : 1000\n",
            "Enter the rate of interest : 15\n",
            "Enter the time in the years: 2\n",
            "Principle amount  :  1000.0\n",
            "Interest rate     :  15.0\n",
            "Time in years     :  2.0\n",
            "compound Interest :  1322.4999999999998\n"
          ],
          "name": "stdout"
        }
      ]
    },
    {
      "cell_type": "code",
      "metadata": {
        "id": "zWN6qvFJwww0",
        "colab_type": "code",
        "colab": {
          "base_uri": "https://localhost:8080/",
          "height": 51
        },
        "outputId": "e7f3fb51-436f-46d3-9485-4e345be0280e"
      },
      "source": [
        "celsius = float(input(\"Enter temperature in celsius: \"))\n",
        "fahrenheit = (celsius * 9/5) + 32\n",
        "print('%.2f Celsius is: %0.2f Fahrenheit' %(celsius, fahrenheit))"
      ],
      "execution_count": 3,
      "outputs": [
        {
          "output_type": "stream",
          "text": [
            "Enter temperature in celsius: 36\n",
            "36.00 Celsius is: 96.80 Fahrenheit\n"
          ],
          "name": "stdout"
        }
      ]
    },
    {
      "cell_type": "code",
      "metadata": {
        "id": "MUbyAcMmxSZ_",
        "colab_type": "code",
        "colab": {
          "base_uri": "https://localhost:8080/",
          "height": 68
        },
        "outputId": "60671d8a-131c-490f-a351-e3ab015abb19"
      },
      "source": [
        "# Python Program to find Largest of two Numbers using if-else statements\n",
        "a = int(input(\"Enter the first number: \"))\n",
        "b = int(input(\"Enter the second number: \"))\n",
        "if(a >= b):\n",
        "  print(a, \"is greater\")\n",
        "else:\n",
        "  print(b, \"is greater\")"
      ],
      "execution_count": 4,
      "outputs": [
        {
          "output_type": "stream",
          "text": [
            "Enter the first number: 10\n",
            "Enter the second number: 15\n",
            "15 is greater\n"
          ],
          "name": "stdout"
        }
      ]
    },
    {
      "cell_type": "code",
      "metadata": {
        "id": "B_zNl6aExji7",
        "colab_type": "code",
        "colab": {
          "base_uri": "https://localhost:8080/",
          "height": 85
        },
        "outputId": "eea5deca-45bb-4541-9351-ca69d42ed981"
      },
      "source": [
        "# Python program to find the surface area of cylinder and cone\n",
        "r = int(input(\"Enter the radius number: \"))\n",
        "h = int(input(\"Enter the height number: \"))\n",
        "PI=3.14\n",
        "cylinder=2*PI*r*r*h\n",
        "cone=1/3*PI*r*r*h\n",
        "print(cylinder,\"surface area of cylinder\")\n",
        "print(cone,\"surface area of cone\")"
      ],
      "execution_count": 5,
      "outputs": [
        {
          "output_type": "stream",
          "text": [
            "Enter the radius number: 8\n",
            "Enter the height number: 5\n",
            "2009.6000000000001 surface area of cylinder\n",
            "334.93333333333334 surface area of cone\n"
          ],
          "name": "stdout"
        }
      ]
    },
    {
      "cell_type": "code",
      "metadata": {
        "id": "JbWBGIBxzN5g",
        "colab_type": "code",
        "colab": {
          "base_uri": "https://localhost:8080/",
          "height": 102
        },
        "outputId": "c8337d12-3628-4fec-bc07-bd496cb26792"
      },
      "source": [
        "a=int(input(\"enter the first number\"))\n",
        "b=int(input(\"enter the second number\"))\n",
        "c=int(input(\"enter the third number\"))\n",
        "d=int(input(\"enter the fourth number\"))\n",
        "\n",
        "def fun(a,b,c,d):\n",
        "        if a>b and a>c and a>d:\n",
        "              return a\n",
        "        elif b>a and b>c and b>d:\n",
        "              return b\n",
        "        elif c>a and c>b and c>d:\n",
        "              return c\n",
        "        else:\n",
        "              return d\n",
        "\n",
        "\n",
        "\n",
        "print(\"the greater number of the four is: \",fun(a,b,c,d))              \n",
        "\n"
      ],
      "execution_count": 2,
      "outputs": [
        {
          "output_type": "stream",
          "text": [
            "enter the first number10\n",
            "enter the second number20\n",
            "enter the third number30\n",
            "enter the fourth number40\n",
            "the greater number of the four is:  40\n"
          ],
          "name": "stdout"
        }
      ]
    },
    {
      "cell_type": "code",
      "metadata": {
        "id": "u29nCSBgpJvx",
        "colab_type": "code",
        "colab": {
          "base_uri": "https://localhost:8080/",
          "height": 1000
        },
        "outputId": "121a3b53-8992-4391-d16d-b7c8064a6f33"
      },
      "source": [
        "loop = 1 \n",
        "choice = 0 \n",
        "def OddorEven(m,n):\n",
        "    if(m%2==0):\n",
        "        print(m,\"is even\")\n",
        "    else:\n",
        "        print(m,\"is odd\")\n",
        "    if(n%2==0):\n",
        "        print(n,\"is even\")\n",
        "    else:\n",
        "        print(n,\"is odd\")\n",
        "def Fact(m,n):\n",
        "    fac = 1\n",
        "    for i in range(1, m + 1):\n",
        "          fac = fac * i\n",
        "    print(\"factorial {0} is:\".format(m),fac)\n",
        "    fac = 1\n",
        "    for i in range(1, n + 1):\n",
        "          fac = fac * i\n",
        "    print(\"factorial {0} is:\".format(n),fac)\n",
        "def OddNoUptoN(m,n):\n",
        "    print(\"odd numbers upto\",m,\"is\")\n",
        "    for i in range(m+1):\n",
        "        if(i%2!=0):\n",
        "            print(i)\n",
        "    print(\"odd numbers upto\",n,\"is\")\n",
        "    for i in range(n+1):\n",
        "        if(i%2!=0):\n",
        "            print(i)\n",
        "def PrimeUptoN(m,n):\n",
        "    print(\"prime numbers upto {0} are:\".format(m))\n",
        "    for i in range(2, m + 1):\n",
        "        if(i==2):\n",
        "            print(i)\n",
        "        j=2\n",
        "        for j in range(2, i):\n",
        "            if(i % j == 0):\n",
        "                j = i\n",
        "                break;\n",
        "        if(j != i):\n",
        "            print(i)\n",
        "    print(\"prime numbers upto {0} are:\".format(n))\n",
        "    for i in range(2,n + 1): \n",
        "        if(i==2):\n",
        "            print(i) \n",
        "        j=2\n",
        "        for j in range(2,i):  \n",
        "            if(i % j == 0):\n",
        "                j = i\n",
        "                break;\n",
        "        if(j != i):\n",
        "            print(i)\n",
        "while loop == 1:\n",
        "    print (\"Enter your choice:\")\n",
        "    print (\" \")\n",
        "    print(\"1) Odd or Even\")\n",
        "    print(\"2) Factorial\")\n",
        "    print(\"3) Print odd numbers\")\n",
        "    print(\"4) Prime number\")\n",
        "    print(\"5) Quit \")\n",
        "    print(\" \")\n",
        "    try:\n",
        "        choice = int(input(\"Choose your option: \"))\n",
        "    except:\n",
        "        print('please enter a valid number for option')\n",
        "    print(\" \")\n",
        "    print(\" \")\n",
        "    if choice == 1:\n",
        "        x = int(input('Enter 1st no: '))\n",
        "        y = int(input('Enter 2nd no: '))\n",
        "        OddorEven(x,y)\n",
        " \n",
        "    elif choice == 2:\n",
        "        x = int(input('Enter 1st no: '))\n",
        "        y = int(input('Enter 2nd no: '))\n",
        "        Fact(x,y)\n",
        "  \n",
        "    elif choice == 3:\n",
        "        x = int(input('Enter 1st no: '))\n",
        "        y = int(input('Enter 2nd no: '))\n",
        "        OddNoUptoN(x,y)\n",
        " \n",
        "    elif choice == 4:\n",
        "        x = int(input('Enter 1st no: '))\n",
        "        y = int(input('Enter 2nd no: '))\n",
        "        PrimeUptoN(x,y)\n",
        "        \n",
        "    elif choice == 5:\n",
        "        loop = 0\n",
        "     \n",
        "    else:\n",
        "        print(\"please choice a valid option from 1 to 5\")\n",
        "        choice=0"
      ],
      "execution_count": 3,
      "outputs": [
        {
          "output_type": "stream",
          "text": [
            "Enter your choice:\n",
            " \n",
            "1) Odd or Even\n",
            "2) Factorial\n",
            "3) Print odd numbers\n",
            "4) Prime number\n",
            "5) Quit \n",
            " \n",
            "Choose your option: 2\n",
            " \n",
            " \n",
            "Enter 1st no: 5\n",
            "Enter 2nd no: 7\n",
            "factorial 5 is: 120\n",
            "factorial 7 is: 5040\n",
            "Enter your choice:\n",
            " \n",
            "1) Odd or Even\n",
            "2) Factorial\n",
            "3) Print odd numbers\n",
            "4) Prime number\n",
            "5) Quit \n",
            " \n",
            "Choose your option: 1\n",
            " \n",
            " \n",
            "Enter 1st no: 11\n",
            "Enter 2nd no: 44\n",
            "11 is odd\n",
            "44 is even\n",
            "Enter your choice:\n",
            " \n",
            "1) Odd or Even\n",
            "2) Factorial\n",
            "3) Print odd numbers\n",
            "4) Prime number\n",
            "5) Quit \n",
            " \n",
            "Choose your option: 4\n",
            " \n",
            " \n",
            "Enter 1st no: 9\n",
            "Enter 2nd no: 77\n",
            "prime numbers upto 9 are:\n",
            "2\n",
            "3\n",
            "5\n",
            "7\n",
            "prime numbers upto 77 are:\n",
            "2\n",
            "3\n",
            "5\n",
            "7\n",
            "11\n",
            "13\n",
            "17\n",
            "19\n",
            "23\n",
            "29\n",
            "31\n",
            "37\n",
            "41\n",
            "43\n",
            "47\n",
            "53\n",
            "59\n",
            "61\n",
            "67\n",
            "71\n",
            "73\n",
            "Enter your choice:\n",
            " \n",
            "1) Odd or Even\n",
            "2) Factorial\n",
            "3) Print odd numbers\n",
            "4) Prime number\n",
            "5) Quit \n",
            " \n",
            "Choose your option: 5\n",
            " \n",
            " \n"
          ],
          "name": "stdout"
        }
      ]
    },
    {
      "cell_type": "code",
      "metadata": {
        "id": "VYedOHhXwPEQ",
        "colab_type": "code",
        "colab": {}
      },
      "source": [
        ""
      ],
      "execution_count": null,
      "outputs": []
    }
  ]
}