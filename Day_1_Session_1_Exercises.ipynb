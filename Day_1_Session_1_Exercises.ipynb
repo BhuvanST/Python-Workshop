{
  "nbformat": 4,
  "nbformat_minor": 0,
  "metadata": {
    "colab": {
      "name": "Day 1 Session 1  Exercises",
      "provenance": [],
      "collapsed_sections": [],
      "authorship_tag": "ABX9TyMMHtm4o1NGLSiq0hfPSATV",
      "include_colab_link": true
    },
    "kernelspec": {
      "name": "python3",
      "display_name": "Python 3"
    }
  },
  "cells": [
    {
      "cell_type": "markdown",
      "metadata": {
        "id": "view-in-github",
        "colab_type": "text"
      },
      "source": [
        "<a href=\"https://colab.research.google.com/github/BhuvanST/Python-Workshop/blob/master/Day_1_Session_1_Exercises.ipynb\" target=\"_parent\"><img src=\"https://colab.research.google.com/assets/colab-badge.svg\" alt=\"Open In Colab\"/></a>"
      ]
    },
    {
      "cell_type": "code",
      "metadata": {
        "id": "cTXCtXanwUsL",
        "colab_type": "code",
        "colab": {
          "base_uri": "https://localhost:8080/",
          "height": 136
        },
        "outputId": "6b2ab62c-3e31-4a5f-e727-763c025d6f2f"
      },
      "source": [
        "# Python program to find compound interest \n",
        "\n",
        "p = float(input(\"Enter the principle amount : \"))\n",
        "r = float(input(\"Enter the rate of interest : \"))\n",
        "t = float(input(\"Enter the time in the years: \"))\n",
        "\n",
        "# calculating compound interest\n",
        "ci =  p * (pow((1 + r / 100), t)) \n",
        "\n",
        "# printing the values\n",
        "print(\"Principle amount  : \", p)\n",
        "print(\"Interest rate     : \", r)\n",
        "print(\"Time in years     : \", t)\n",
        "print(\"compound Interest : \", ci)"
      ],
      "execution_count": 1,
      "outputs": [
        {
          "output_type": "stream",
          "text": [
            "Enter the principle amount : 1000\n",
            "Enter the rate of interest : 15\n",
            "Enter the time in the years: 2\n",
            "Principle amount  :  1000.0\n",
            "Interest rate     :  15.0\n",
            "Time in years     :  2.0\n",
            "compound Interest :  1322.4999999999998\n"
          ],
          "name": "stdout"
        }
      ]
    },
    {
      "cell_type": "code",
      "metadata": {
        "id": "zWN6qvFJwww0",
        "colab_type": "code",
        "colab": {
          "base_uri": "https://localhost:8080/",
          "height": 51
        },
        "outputId": "e7f3fb51-436f-46d3-9485-4e345be0280e"
      },
      "source": [
        "celsius = float(input(\"Enter temperature in celsius: \"))\n",
        "fahrenheit = (celsius * 9/5) + 32\n",
        "print('%.2f Celsius is: %0.2f Fahrenheit' %(celsius, fahrenheit))"
      ],
      "execution_count": 3,
      "outputs": [
        {
          "output_type": "stream",
          "text": [
            "Enter temperature in celsius: 36\n",
            "36.00 Celsius is: 96.80 Fahrenheit\n"
          ],
          "name": "stdout"
        }
      ]
    },
    {
      "cell_type": "code",
      "metadata": {
        "id": "MUbyAcMmxSZ_",
        "colab_type": "code",
        "colab": {
          "base_uri": "https://localhost:8080/",
          "height": 68
        },
        "outputId": "60671d8a-131c-490f-a351-e3ab015abb19"
      },
      "source": [
        "# Python Program to find Largest of two Numbers using if-else statements\n",
        "a = int(input(\"Enter the first number: \"))\n",
        "b = int(input(\"Enter the second number: \"))\n",
        "if(a >= b):\n",
        "  print(a, \"is greater\")\n",
        "else:\n",
        "  print(b, \"is greater\")"
      ],
      "execution_count": 4,
      "outputs": [
        {
          "output_type": "stream",
          "text": [
            "Enter the first number: 10\n",
            "Enter the second number: 15\n",
            "15 is greater\n"
          ],
          "name": "stdout"
        }
      ]
    },
    {
      "cell_type": "code",
      "metadata": {
        "id": "B_zNl6aExji7",
        "colab_type": "code",
        "colab": {
          "base_uri": "https://localhost:8080/",
          "height": 85
        },
        "outputId": "eea5deca-45bb-4541-9351-ca69d42ed981"
      },
      "source": [
        "# Python program to frid the surface area of cylinder and cone\n",
        "r = int(input(\"Enter the radius number: \"))\n",
        "h = int(input(\"Enter the height number: \"))\n",
        "PI=3.14\n",
        "cylinder=2*PI*r*r*h\n",
        "cone=1/3*PI*r*r*h\n",
        "print(cylinder,\"surface area of cylinder\")\n",
        "print(cone,\"surface area of cone\")"
      ],
      "execution_count": 5,
      "outputs": [
        {
          "output_type": "stream",
          "text": [
            "Enter the radius number: 8\n",
            "Enter the height number: 5\n",
            "2009.6000000000001 surface area of cylinder\n",
            "334.93333333333334 surface area of cone\n"
          ],
          "name": "stdout"
        }
      ]
    },
    {
      "cell_type": "code",
      "metadata": {
        "id": "JbWBGIBxzN5g",
        "colab_type": "code",
        "colab": {
          "base_uri": "https://localhost:8080/",
          "height": 102
        },
        "outputId": "c8337d12-3628-4fec-bc07-bd496cb26792"
      },
      "source": [
        "a=int(input(\"enter the first number\"))\n",
        "b=int(input(\"enter the second number\"))\n",
        "c=int(input(\"enter the third number\"))\n",
        "d=int(input(\"enter the fourth number\"))\n",
        "\n",
        "def fun(a,b,c,d):\n",
        "        if a>b and a>c and a>d:\n",
        "              return a\n",
        "        elif b>a and b>c and b>d:\n",
        "              return b\n",
        "        elif c>a and c>b and c>d:\n",
        "              return c\n",
        "        else:\n",
        "              return d\n",
        "\n",
        "\n",
        "\n",
        "print(\"the greater number of the four is: \",fun(a,b,c,d))              \n",
        "\n"
      ],
      "execution_count": 2,
      "outputs": [
        {
          "output_type": "stream",
          "text": [
            "enter the first number10\n",
            "enter the second number20\n",
            "enter the third number30\n",
            "enter the fourth number40\n",
            "the greater number of the four is:  40\n"
          ],
          "name": "stdout"
        }
      ]
    },
    {
      "cell_type": "code",
      "metadata": {
        "id": "u29nCSBgpJvx",
        "colab_type": "code",
        "colab": {}
      },
      "source": [
        ""
      ],
      "execution_count": null,
      "outputs": []
    }
  ]
}